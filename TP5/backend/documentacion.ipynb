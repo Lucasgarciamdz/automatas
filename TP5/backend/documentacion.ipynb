{
 "cells": [
  {
   "attachments": {},
   "cell_type": "markdown",
   "metadata": {},
   "source": [
    "Este programa se encarga de obtener los usuarios conectados a un determinado AP en un rango de fechas establecido.\n",
    "\n",
    "Creamos 2 programas:\n",
    "- csv_tool: se encarga de extraer la informacion y aplicar expresiones regulares\n",
    "- app_cli: se encarga de filtar la informacion con la MACAddress del AP elegido y con las fechas provistas por el usuario"
   ]
  },
  {
   "attachments": {},
   "cell_type": "markdown",
   "metadata": {},
   "source": [
    "csv_tool\n",
    "\n",
    "Primero lo que haces es definir las expresiones regulares que vamos a usar"
   ]
  },
  {
   "cell_type": "code",
   "execution_count": 4,
   "metadata": {},
   "outputs": [],
   "source": [
    "import re\n",
    "\n",
    "MAC_RE = re.compile(r'([0-9A-Fa-f]{2}[:-]){5}([0-9A-Fa-f]{2}):HCDD$')\n",
    "DATE_RE = re.compile(r'(20(1[5-9]|2[0-5])[-/](0[1-9]|1[0-2])[-/]([0-2][0-9]|3[0-1])$)')\n",
    "USER_RE = re.compile(r'[a-zA-Z0-9-_\\\\/]{1,25}$')"
   ]
  },
  {
   "attachments": {},
   "cell_type": "markdown",
   "metadata": {},
   "source": [
    "Luego tiene 2 funciones, donde la primera extrae la informacion del csv (create_pandas) y la otra aplica las expresiones regulares (apply_regex)"
   ]
  },
  {
   "cell_type": "code",
   "execution_count": 5,
   "metadata": {},
   "outputs": [],
   "source": [
    "import pandas as pd\n",
    "\n",
    "def create_pandas(csv_path: str, columns: list = [\"MAC_AP\", \"Inicio_de_Conexión_Dia\", \"FIN_de_Conexión_Dia\", \"Usuario\"]):\n",
    "    data = pd.read_csv(csv_path,\n",
    "                       low_memory=False,\n",
    "                       usecols=columns)\n",
    "\n",
    "    return data\n",
    "\n",
    "\n",
    "def apply_regex(data: pd.DataFrame):\n",
    "    mask = (data[\"MAC_AP\"].str.fullmatch(MAC_RE) &\n",
    "            data[\"Inicio_de_Conexión_Dia\"].str.fullmatch(DATE_RE) &\n",
    "            data[\"FIN_de_Conexión_Dia\"].str.fullmatch(DATE_RE) &\n",
    "            data[\"Usuario\"].str.fullmatch(USER_RE))\n",
    "    data = data[mask]\n",
    "\n",
    "    return data"
   ]
  },
  {
   "attachments": {},
   "cell_type": "markdown",
   "metadata": {},
   "source": [
    "app_cli:\n",
    "\n",
    "El cuerpo del codigo es una sola funcion (menu), que se encarga de todo lo dicho al principio de este documento. Esta funcion tiene 1 parametro que es el path del csv\n",
    "\n",
    "Primero lo que hacemos es llamar a las funciones create_pandas y apply_regex, ademas creamos unos spinner para que el usuario sepa que tareas esta llevando a cabo el programa"
   ]
  },
  {
   "cell_type": "code",
   "execution_count": null,
   "metadata": {},
   "outputs": [],
   "source": [
    "import typer\n",
    "from yaspin import yaspin\n",
    "from csv_tool import create_pandas, apply_regex, DATE_RE\n",
    "\n",
    "def menu(csv_path: str = typer.Option(..., prompt=\"Ingrese la ruta del archivo csv\")):\n",
    "    csv_read_spinner = yaspin(text=\"Leyendo csv\", color=\"yellow\")\n",
    "    apply_regex_spinner = yaspin(text=\"Aplicando expresiones regulares\", color=\"yellow\")\n",
    "\n",
    "    csv_read_spinner.start()\n",
    "    data = create_pandas(csv_path)\n",
    "    csv_read_spinner.stop()\n",
    "\n",
    "    apply_regex_spinner.start()\n",
    "    data = apply_regex(data)\n",
    "    apply_regex_spinner.stop()"
   ]
  },
  {
   "attachments": {},
   "cell_type": "markdown",
   "metadata": {},
   "source": [
    "Luego, creamos una lista de las MACAddress de los APs para que el usuario seleccione uno, ademas de pedirle el rango de fechas"
   ]
  },
  {
   "cell_type": "code",
   "execution_count": null,
   "metadata": {},
   "outputs": [],
   "source": [
    "import typer\n",
    "import inquirer\n",
    "import pandas as pd\n",
    "\n",
    "\n",
    "def menu(csv_path: str = typer.Option(..., prompt=\"Ingrese la ruta del archivo csv\")):\n",
    "    data = create_pandas(csv_path)\n",
    "    data = apply_regex(data)\n",
    "    \n",
    "    ap_list = data[\"MAC_AP\"].unique().tolist()\n",
    "\n",
    "    ap = inquirer.prompt([inquirer.List('ACCESS POINT', message=\"Seleccione un AP\", choices=ap_list)])\n",
    "\n",
    "    fechas = inquirer.prompt([\n",
    "        inquirer.Text(\"FECHA DE INICIO\", message=\"Ingrese la fecha de inicio (YYYY/MM/DD)\", validate=lambda _, x: DATE_RE.fullmatch(x) is not None),\n",
    "        inquirer.Text(\"FECHA DE FIN\", message=\"Ingrese la fecha de fin (YYYY/MM/DD)\", validate=lambda _, x: DATE_RE.fullmatch(x) is not None),\n",
    "    ])\n",
    "\n",
    "    ap, fecha_i, fecha_f = ap[\"ACCESS POINT\"], fechas[\"FECHA DE INICIO\"], fechas[\"FECHA DE FIN\"]\n",
    "\n",
    "    fecha_i = pd.to_datetime(fecha_i)\n",
    "    fecha_f = pd.to_datetime(fecha_f)\n",
    "    data[\"Inicio_de_Conexión_Dia\"] = pd.to_datetime(data[\"Inicio_de_Conexión_Dia\"])\n",
    "    data[\"FIN_de_Conexión_Dia\"] = pd.to_datetime(data[\"FIN_de_Conexión_Dia\"])"
   ]
  },
  {
   "attachments": {},
   "cell_type": "markdown",
   "metadata": {},
   "source": [
    "Mas adelante, filtramos el DataFrame con la informacion proporcionada por el usuario"
   ]
  },
  {
   "cell_type": "code",
   "execution_count": null,
   "metadata": {},
   "outputs": [],
   "source": [
    "def menu(csv_path: str = typer.Option(..., prompt=\"Ingrese la ruta del archivo csv\")):\n",
    "\n",
    "    filtro = (\n",
    "        (data[\"MAC_AP\"] == ap)\n",
    "        & (data[\"Inicio_de_Conexión_Dia\"].dt.year >= fecha_i.year)\n",
    "        & (data[\"Inicio_de_Conexión_Dia\"].dt.month >= fecha_i.month)\n",
    "        & (data[\"Inicio_de_Conexión_Dia\"].dt.day >= fecha_i.day)\n",
    "        & (data[\"FIN_de_Conexión_Dia\"].dt.year <= fecha_f.year)\n",
    "        & (data[\"FIN_de_Conexión_Dia\"].dt.month <= fecha_f.month)\n",
    "        & (data[\"FIN_de_Conexión_Dia\"].dt.day <= fecha_f.day)\n",
    "    )\n",
    "\n",
    "    data = data[filtro].groupby([\"Usuario\"]).count().reset_index()\n",
    "    users = data[\"Usuario\"].unique()"
   ]
  },
  {
   "attachments": {},
   "cell_type": "markdown",
   "metadata": {},
   "source": [
    "Por ultimo imprimimos la tabla con los usuarios por pantalla y la guardamos en un archivo csv."
   ]
  },
  {
   "cell_type": "code",
   "execution_count": null,
   "metadata": {},
   "outputs": [],
   "source": [
    "print(tabulate([[user] for user in users], headers=[f\"Usuarios conectados al AP {ap} entre {fecha_i} y {fecha_f}\"], tablefmt='grid', stralign='center'))\n",
    "\n",
    "with open(\"output.csv\", \"w\") as f:\n",
    "    f.write(data[\"Usuario\"].to_csv(index=False))"
   ]
  }
 ],
 "metadata": {
  "kernelspec": {
   "display_name": "Python 3",
   "language": "python",
   "name": "python3"
  },
  "language_info": {
   "codemirror_mode": {
    "name": "ipython",
    "version": 3
   },
   "file_extension": ".py",
   "mimetype": "text/x-python",
   "name": "python",
   "nbconvert_exporter": "python",
   "pygments_lexer": "ipython3",
   "version": "3.10.6"
  },
  "orig_nbformat": 4
 },
 "nbformat": 4,
 "nbformat_minor": 2
}
